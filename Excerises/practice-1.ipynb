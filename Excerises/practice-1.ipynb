{
 "cells": [
  {
   "cell_type": "code",
   "execution_count": null,
   "id": "e292d962",
   "metadata": {},
   "outputs": [],
   "source": [
    "def add_numbers(a,b):\n",
    "    return a + b"
   ]
  },
  {
   "cell_type": "code",
   "execution_count": null,
   "id": "2cdc4872",
   "metadata": {},
   "outputs": [],
   "source": [
    "add_numbers(1,2)"
   ]
  },
  {
   "cell_type": "code",
   "execution_count": null,
   "id": "87b224df",
   "metadata": {},
   "outputs": [],
   "source": [
    "def add_10(m):\n",
    "    if m >= 100:\n",
    "        m = m + 10\n",
    "        return m\n",
    "    else:\n",
    "        return \"save More!\""
   ]
  },
  {
   "cell_type": "code",
   "execution_count": null,
   "id": "0d8cfbba",
   "metadata": {},
   "outputs": [],
   "source": [
    "def create_content(a,b,c,d):\n",
    "    print(f\"parameter {a}\")\n",
    "    print(f\"parameter {b}\")\n",
    "    print(f\"parameter {c}\")\n",
    "    print(f\"parameter {d}\")"
   ]
  },
  {
   "cell_type": "code",
   "execution_count": null,
   "id": "ce75e792",
   "metadata": {},
   "outputs": [],
   "source": [
    "create_content(b=1,d=2,a=3,c=4)"
   ]
  },
  {
   "cell_type": "code",
   "execution_count": null,
   "id": "b74144ff",
   "metadata": {},
   "outputs": [],
   "source": [
    "x=200\n",
    "str(x)"
   ]
  },
  {
   "cell_type": "code",
   "execution_count": null,
   "id": "8ff96af0",
   "metadata": {},
   "outputs": [],
   "source": [
    "max(10,8,23,7)"
   ]
  },
  {
   "cell_type": "code",
   "execution_count": null,
   "id": "198f1bbf",
   "metadata": {},
   "outputs": [],
   "source": [
    "abs(-2)"
   ]
  },
  {
   "cell_type": "code",
   "execution_count": null,
   "id": "12fa547b",
   "metadata": {},
   "outputs": [],
   "source": [
    "list_1 = [1,2,3,4,5,6]\n",
    "sum(list_1)"
   ]
  },
  {
   "cell_type": "code",
   "execution_count": null,
   "id": "d65494e6",
   "metadata": {},
   "outputs": [],
   "source": [
    "round(3.2, 0\n",
    "      )"
   ]
  },
  {
   "cell_type": "code",
   "execution_count": null,
   "id": "25c18bf0",
   "metadata": {},
   "outputs": [],
   "source": [
    "pow(2,200)"
   ]
  },
  {
   "cell_type": "code",
   "execution_count": null,
   "id": "54af9280",
   "metadata": {},
   "outputs": [],
   "source": [
    "len(\"this is a number\")"
   ]
  },
  {
   "cell_type": "code",
   "execution_count": 1,
   "id": "87991b6b",
   "metadata": {},
   "outputs": [
    {
     "data": {
      "text/plain": [
       "['maria', 'kate']"
      ]
     },
     "execution_count": 1,
     "metadata": {},
     "output_type": "execute_result"
    }
   ],
   "source": [
    "participants  =['maria', 'kate']\n",
    "participants"
   ]
  },
  {
   "cell_type": "code",
   "execution_count": 11,
   "id": "42b43a40",
   "metadata": {},
   "outputs": [
    {
     "name": "stdout",
     "output_type": "stream",
     "text": [
      "They are not similar\n"
     ]
    }
   ],
   "source": [
    "if participants[0]==participants[-1]:\n",
    "    print(participants[1])\n",
    "else:\n",
    "    print(\"They are not similar\")"
   ]
  },
  {
   "cell_type": "code",
   "execution_count": 12,
   "id": "ca624e97",
   "metadata": {},
   "outputs": [],
   "source": [
    "participants.append('kene')\n",
    "participants.append('zelus')"
   ]
  },
  {
   "cell_type": "code",
   "execution_count": 13,
   "id": "8f83c8f5",
   "metadata": {},
   "outputs": [
    {
     "data": {
      "text/plain": [
       "['maria', 'kate', 'kene', 'zelus']"
      ]
     },
     "execution_count": 13,
     "metadata": {},
     "output_type": "execute_result"
    }
   ],
   "source": [
    "participants"
   ]
  },
  {
   "cell_type": "code",
   "execution_count": 28,
   "id": "f2803b44",
   "metadata": {},
   "outputs": [
    {
     "data": {
      "text/plain": [
       "['kene']"
      ]
     },
     "execution_count": 28,
     "metadata": {},
     "output_type": "execute_result"
    }
   ],
   "source": [
    "participants[-2:-1] #always don't forget that it will only take the first index we provided and the last index-1 we provided"
   ]
  },
  {
   "cell_type": "code",
   "execution_count": 29,
   "id": "38cc1732",
   "metadata": {},
   "outputs": [],
   "source": [
    "#this is to learn tuples"
   ]
  },
  {
   "cell_type": "code",
   "execution_count": 31,
   "metadata": {},
   "outputs": [
    {
     "data": {
      "text/plain": [
       "['This', 'is', 'to', 'learn', 'Tuples']"
      ]
     },
     "execution_count": 31,
     "metadata": {},
     "output_type": "execute_result"
    }
   ],
   "source": [
    "x=\"This is to learn Tuples\"\n",
    "x.split(\" \")\n"
   ]
  },
  {
   "cell_type": "code",
   "execution_count": 32,
   "id": "96b94a7e",
   "metadata": {},
   "outputs": [
    {
     "name": "stdout",
     "output_type": "stream",
     "text": [
      "This\n",
      "is\n",
      "to\n",
      "learn\n",
      "Tuples\n"
     ]
    }
   ],
   "source": [
    "(a,b,c,d,e) = \"This is to learn Tuples\".split(\" \")\n",
    "print(a)\n",
    "print(b)\n",
    "print(c)\n",
    "print(d)\n",
    "print(e)\n"
   ]
  },
  {
   "cell_type": "code",
   "execution_count": 41,
   "id": "fc73ffa1",
   "metadata": {},
   "outputs": [
    {
     "data": {
      "text/plain": [
       "{'p1': 1,\n",
       " 'p2': 2,\n",
       " 'p3': 3,\n",
       " 'p4': [1, 2, 3, 4, 5],\n",
       " 'p5': 'This is the last elelment'}"
      ]
     },
     "execution_count": 41,
     "metadata": {},
     "output_type": "execute_result"
    }
   ],
   "source": [
    "team = {\"p1\":1, \"p2\":2, \"p3\":3, \"p4\":[1,2,3,4,5], \"p5\":\"This is the last elelment\",}\n",
    "team"
   ]
  },
  {
   "cell_type": "code",
   "execution_count": 49,
   "id": "dcd8a733",
   "metadata": {},
   "outputs": [
    {
     "data": {
      "text/plain": [
       "{'p1': 1,\n",
       " 'p2': 2,\n",
       " 'p3': 3,\n",
       " 'p4': [1, 2, 3, 4, 5],\n",
       " 'p5': 'This is now not the last element',\n",
       " 'p6': 'This is the last element '}"
      ]
     },
     "execution_count": 49,
     "metadata": {},
     "output_type": "execute_result"
    }
   ],
   "source": [
    "team[\"p5\"] =\"This is now not the last element\"\n",
    "team[\"p6\"]=\"This is the last element \"\n",
    "team"
   ]
  },
  {
   "cell_type": "code",
   "execution_count": 54,
   "id": "6e9749e3",
   "metadata": {},
   "outputs": [
    {
     "name": "stdout",
     "output_type": "stream",
     "text": [
      "21, 3, 2, 43, 54, 3, 4, 5, 656, 4, 32, 354, 432, "
     ]
    }
   ],
   "source": [
    "#the following is to learn loops.\n",
    "even = [21,3,2,43,54,3,4,5,656,4,32,354,432]\n",
    "for i in range(len(even)):\n",
    "    print(even[i], end=\", \")\n"
   ]
  },
  {
   "cell_type": "code",
   "execution_count": 180,
   "id": "b4270abc",
   "metadata": {},
   "outputs": [],
   "source": [
    "def romanToInt(s):\n",
    "    roman = {\"I\":1, \"V\":5, \"X\":10, \"L\":50, \"C\":100, \"D\":500, \"M\":1000}\n",
    "    result = 0\n",
    "    for i in range(len(s)):\n",
    "        left = roman[s[i]]\n",
    "        if(i+1 < len(s)):\n",
    "            right = roman[s[i+1]]\n",
    "            if(left >= right):\n",
    "                result+=left\n",
    "            else:\n",
    "                result-=left\n",
    "        else:\n",
    "           result+=left\n",
    "    return result   \n"
   ]
  },
  {
   "cell_type": "code",
   "execution_count": 182,
   "id": "2693c392",
   "metadata": {},
   "outputs": [
    {
     "data": {
      "text/plain": [
       "1994"
      ]
     },
     "execution_count": 182,
     "metadata": {},
     "output_type": "execute_result"
    }
   ],
   "source": [
    "romanToInt(\"MCMXCIV\")"
   ]
  },
  {
   "cell_type": "code",
   "execution_count": 253,
   "id": "0bd3b212",
   "metadata": {},
   "outputs": [],
   "source": [
    "def lengthOfLastWord(s):\n",
    "    temp=s.split(' ')\n",
    "    result=\"\"\n",
    "    y=-1\n",
    "    for i in range(len(temp)):\n",
    "        if temp[i] != \"\":\n",
    "            result=temp[i]\n",
    "    return len(result)"
   ]
  },
  {
   "cell_type": "code",
   "execution_count": 255,
   "id": "9f11914b",
   "metadata": {},
   "outputs": [
    {
     "name": "stdout",
     "output_type": "stream",
     "text": [
      "1\n"
     ]
    }
   ],
   "source": [
    "x=lengthOfLastWord(s=\"   fly me   to   the moon  \")\n",
    "print(x)"
   ]
  },
  {
   "attachments": {},
   "cell_type": "markdown",
   "id": "b1d9cbe4",
   "metadata": {},
   "source": []
  }
 ],
 "metadata": {
  "kernelspec": {
   "display_name": "practice-jupyter",
   "language": "python",
   "name": "practice-jupyter"
  },
  "language_info": {
   "codemirror_mode": {
    "name": "ipython",
    "version": 3
   },
   "file_extension": ".py",
   "mimetype": "text/x-python",
   "name": "python",
   "nbconvert_exporter": "python",
   "pygments_lexer": "ipython3",
   "version": "3.10.11"
  }
 },
 "nbformat": 4,
 "nbformat_minor": 5
}
